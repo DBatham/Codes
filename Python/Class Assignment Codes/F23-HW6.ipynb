{
 "cells": [
  {
   "cell_type": "markdown",
   "id": "db687a99",
   "metadata": {
    "deletable": false,
    "editable": false,
    "nbgrader": {
     "cell_type": "markdown",
     "checksum": "4836c352c18950ed1059c4a97f38c8f8",
     "grade": false,
     "grade_id": "Instructions",
     "locked": true,
     "schema_version": 3,
     "solution": false,
     "task": false
    }
   },
   "source": [
    "## Assignment-6\n",
    "##### Total number of points: 40\n",
    "#### Due date: 11/6/2023 11:59 PM\n",
    "\n",
    "Before you submit this homework, make sure everything runs as expected. First, restart the kernel (in the menu, select Kernel → Restart) and then run all cells (in the menubar, select Cell → Run All). You can discuss with others regarding the homework but all work must be your own.\n",
    "\n",
    "Steps to evaluate your solutions:\n",
    "\n",
    "Step-1: Try on Colab or Anaconda (Windows: https://docs.anaconda.com/anaconda/install/windows/ ; Mac:https://docs.anaconda.com/anaconda/install/mac-os/ ; Linux: https://docs.anaconda.com/anaconda/install/linux/)\n",
    "\n",
    "Step-2: Open the Jupyter Notebook by first launching the anaconda software console\n",
    "\n",
    "Step-3: Open the homework's .ipynb file and write your solutions at the appropriate location \"# YOUR CODE HERE\"\n",
    "\n",
    "Step-4: You can restart the kernel and click run all (in the menubar, select Cell → Run All) on the center-right on the top of this window.\n",
    "\n",
    "Step-5: Now go to \"File\" then click on \"Download as\" then click on \"Notebook (.ipynb)\" Please DO NOT change the file name and just keep it as \".ipynb\"\n",
    "\n",
    "Step-6: Go to lms.rpi.edu and upload your homework at the appropriate link to submit this homework.\n",
    "\n",
    "\n",
    "#### Please note that for any question in this assignment you will receive points ONLY if your solution passes all the test cases including hidden testcases as well. So please make sure you try to think all possible scenarios before submitting your answers.  \n",
    "- Note that hidden tests are present to ensure you are not hardcoding. \n",
    "- If caught cheating: \n",
    "    - you will receive a score of 0 for the 1st violation. \n",
    "    - for repeated incidents, you will receive an automatic 'F' grade and will be reported to the dean of Lally School of Management.  "
   ]
  },
  {
   "cell_type": "markdown",
   "id": "832b432e",
   "metadata": {
    "deletable": false,
    "editable": false,
    "nbgrader": {
     "cell_type": "markdown",
     "checksum": "00b02cf9acc3ba85a504d217c587e1bf",
     "grade": false,
     "grade_id": "TimeSpent",
     "locked": true,
     "schema_version": 3,
     "solution": false,
     "task": false
    }
   },
   "source": [
    "### Please provide your response in clear words as a string. You need to answer this question in order to receive points. \n",
    "\n",
    "- 1. Did you work in a group setting to study the concepts you are learning in this class -- Assign variable `groupStudy` with either `yes` or `no`.\n",
    "- 2. How much time did you spend on this assignment? -- Assign variable `AssignmentTime`.\n",
    "- 3. How much time did you spend towards learning the concepts taught in this class the past week in terms of hours -- Assign variable `WeeklyHours`. \n",
    "\n"
   ]
  },
  {
   "cell_type": "code",
   "execution_count": null,
   "id": "e72d0f28",
   "metadata": {
    "deletable": false,
    "nbgrader": {
     "cell_type": "code",
     "checksum": "8d8fb66d577581da92866f497e44c15b",
     "grade": false,
     "grade_id": "Q0",
     "locked": false,
     "schema_version": 3,
     "solution": true,
     "task": false
    }
   },
   "outputs": [],
   "source": [
    "#Assign groupstudy; AssignmentTime; WeeklyHours\n",
    "\n",
    "groupStudy = 'No' #Please assign this variable with yes or no\n",
    "AssignmentTime = '10' #How much time did you spend w.r.t hours on this assignment\n",
    "WeeklyHours = '6' #How much time did you spend w.r.t hours the last week learning the concepts taught in our ML class\n",
    "\n",
    "# YOUR CODE HERE\n",
    "\n",
    "\n"
   ]
  },
  {
   "cell_type": "code",
   "execution_count": null,
   "id": "13618bc8",
   "metadata": {
    "deletable": false,
    "editable": false,
    "nbgrader": {
     "cell_type": "code",
     "checksum": "6a61c3901278cb1c3b8026029d12ca1e",
     "grade": true,
     "grade_id": "1",
     "locked": true,
     "points": 10,
     "schema_version": 3,
     "solution": false,
     "task": false
    }
   },
   "outputs": [],
   "source": [
    "#Test cell-1 (10 points)\n",
    "#DO NOT MODIFY/DELETE THIS CELL \n"
   ]
  },
  {
   "cell_type": "markdown",
   "id": "5870ab9b",
   "metadata": {
    "deletable": false,
    "editable": false,
    "nbgrader": {
     "cell_type": "markdown",
     "checksum": "61aba37c478a4e0f6f699409bf2fd4e6",
     "grade": false,
     "grade_id": "Q1",
     "locked": true,
     "schema_version": 3,
     "solution": false,
     "task": false
    }
   },
   "source": [
    "#### Q1 [10 points]. Please make sure you complete the below tasks correctly as the following questions are dependent on this. \n",
    "\n",
    "1. Load the SMS data available at the given url which is in the form of a text file. \n",
    "    - Please note that this text file contains multiple lines where, each line starts with either \"spam\" or \"ham\" followed by a tab ('\\t') and the text message ending with a '\\n'.\n",
    "    - The `data` variable contains all these lines.\n",
    "    - More details about this link could be found here: https://archive.ics.uci.edu/dataset/228/sms+spam+collection \n",
    "2. Use the data variable to create `X` and `y` using this dataset where `X` corresponds to a list of all the texts and `y` corresponds to a list of all the class label values. \n",
    "    - Make sure you get remove of the new line character for each SMS text in `X`"
   ]
  },
  {
   "cell_type": "code",
   "execution_count": null,
   "id": "88f953b3",
   "metadata": {
    "deletable": false,
    "nbgrader": {
     "cell_type": "code",
     "checksum": "ec72015dd3cf5fcbc74d17927fa345b8",
     "grade": false,
     "grade_id": "Q1-sol",
     "locked": false,
     "schema_version": 3,
     "solution": true,
     "task": false
    }
   },
   "outputs": [],
   "source": [
    "import numpy as np\n",
    "import re\n",
    "url='https://raw.githubusercontent.com/lmanikon/lmanikon.github.io/master/teaching/datasets/SMSSpam.txt'\n",
    "\n",
    "import requests\n",
    "\n",
    "response = requests.get(url)\n",
    "data = response.text\n",
    "display(data)\n",
    "\n",
    "X = []\n",
    "y = []\n",
    "\n",
    "lines=data.split('\\n')\n",
    "for line in lines:\n",
    "    if len(line) > 0:\n",
    "        label, message = line.split('\\t')\n",
    "        X.append(re.sub(r'\\n', '', message))\n",
    "        y.append(label)\n",
    "print(X)\n",
    "print(y)\n",
    "\n",
    "# YOUR CODE HERE\n",
    "\n"
   ]
  },
  {
   "cell_type": "code",
   "execution_count": null,
   "id": "3b837f88",
   "metadata": {
    "deletable": false,
    "editable": false,
    "nbgrader": {
     "cell_type": "code",
     "checksum": "109728d1fe7f7ac79eef374ce8059e63",
     "grade": true,
     "grade_id": "2",
     "locked": true,
     "points": 4,
     "schema_version": 3,
     "solution": false,
     "task": false
    }
   },
   "outputs": [],
   "source": [
    "#Test cell-2 (4 points)\n",
    "#DO NOT MODIFY/DELETE THIS CELL \n",
    "\n",
    "assert len(X)==len(y)\n",
    "assert len(y)==5574\n"
   ]
  },
  {
   "cell_type": "code",
   "execution_count": null,
   "id": "f7b0ce4e",
   "metadata": {
    "deletable": false,
    "editable": false,
    "nbgrader": {
     "cell_type": "code",
     "checksum": "fec18febbedef1628a404715b32024b5",
     "grade": true,
     "grade_id": "3",
     "locked": true,
     "points": 4,
     "schema_version": 3,
     "solution": false,
     "task": false
    }
   },
   "outputs": [],
   "source": [
    "#Test cell-3 (4 points)\n",
    "#DO NOT MODIFY/DELETE THIS CELL \n",
    "\n",
    "assert y.count('spam')==747\n",
    "assert y.count('ham')==4827"
   ]
  },
  {
   "cell_type": "code",
   "execution_count": null,
   "id": "67f2331a",
   "metadata": {
    "deletable": false,
    "editable": false,
    "nbgrader": {
     "cell_type": "code",
     "checksum": "ca1e621e4be5813900018d5c7f8a5237",
     "grade": true,
     "grade_id": "4",
     "locked": true,
     "points": 2,
     "schema_version": 3,
     "solution": false,
     "task": false
    }
   },
   "outputs": [],
   "source": [
    "#Test cell-4 (2 points)\n",
    "#DO NOT MODIFY/DELETE THIS CELL \n"
   ]
  },
  {
   "cell_type": "markdown",
   "id": "36999723",
   "metadata": {
    "deletable": false,
    "editable": false,
    "nbgrader": {
     "cell_type": "markdown",
     "checksum": "1195aa25be98c5c740345c1601a8a523",
     "grade": false,
     "grade_id": "Q2",
     "locked": true,
     "schema_version": 3,
     "solution": false,
     "task": false
    }
   },
   "source": [
    "#### Q2 [10 points]. Preprocessing the SMS text messages -- we will use both `X` and `y` from the previous question\n",
    "\n",
    "1. Convert the class label column `y` by changing the values of `ham` and `spam` to integer values of 0 and 1 respectively. \n",
    "2. Lets now extract numerical features from `X`. Before you work on the following questions, please convert all the text in `X` into lowercase format. \n",
    "3. Create a first feature (named `LLen`) that computes the length of each SMS in `X`. \n",
    "4. Create a second feature (named `URL`) that contains an integer value of 1 if the corresponding SMS contains a web URL (http or https). IF there is no web url, the appropriate cell value will be integer value of 0.\n",
    "5. Clean the text by removing all the urls and replacing non-alphanumeric characters with one space. Append these two features (`LLen` and `URL`) along with the TFIDF vectors (and their corresponding vocabulary) that you will extract using TFIDF vectorization approach. \n",
    "6. Create a dataframe `X_new` using all the features extracted using `X` and the corresponding feature names should be added. "
   ]
  },
  {
   "cell_type": "code",
   "execution_count": null,
   "id": "5787c8c1",
   "metadata": {
    "deletable": false,
    "nbgrader": {
     "cell_type": "code",
     "checksum": "882e399ebbc8369863372e1276147943",
     "grade": false,
     "grade_id": "Q2-sol",
     "locked": false,
     "schema_version": 3,
     "solution": true,
     "task": false
    }
   },
   "outputs": [],
   "source": [
    "from IPython.utils import text\n",
    "import pandas as pd\n",
    "import re\n",
    "from sklearn.feature_extraction.text import TfidfVectorizer\n",
    "\n",
    "y = [1 if label == 'spam' else 0 for label in y]\n",
    "\n",
    "X = list(map(str.lower, X))\n",
    "\n",
    "LLen = list(map(len, X))\n",
    "\n",
    "URL = []\n",
    "X_cleaned = []\n",
    "\n",
    "for text in X:\n",
    "    if re.search(r'http://|https://', text):\n",
    "        URL.append(1)\n",
    "        text = re.sub(r'http\\S+', '', text)\n",
    "    else:\n",
    "        URL.append(0)\n",
    "\n",
    "    cleaned_text = re.sub(r'\\W+', ' ', text)\n",
    "    X_cleaned.append(cleaned_text.strip())\n",
    "\n",
    "\n",
    "vectorizer = TfidfVectorizer()\n",
    "tfidf_matrix = vectorizer.fit_transform(X_cleaned)\n",
    "tfidf_features = vectorizer.get_feature_names_out()\n",
    "\n",
    "tfidf_array = tfidf_matrix.toarray()\n",
    "\n",
    "LLen_df = pd.DataFrame({'LLen': LLen})\n",
    "URL_df = pd.DataFrame({'URL': URL})\n",
    "\n",
    "tfidf_df = pd.DataFrame(tfidf_array, columns=tfidf_features)\n",
    "\n",
    "X_combined = pd.concat([LLen_df, URL_df, tfidf_df], axis=1)\n",
    "feature_names = ['LLen', 'URL'] + list(tfidf_features)\n",
    "\n",
    "X_new = pd.DataFrame(X_combined, columns= feature_names)\n",
    "print(X_new.columns)\n",
    "\n",
    "# YOUR CODE HERE\n"
   ]
  },
  {
   "cell_type": "code",
   "execution_count": null,
   "id": "caa61aa5",
   "metadata": {
    "deletable": false,
    "editable": false,
    "nbgrader": {
     "cell_type": "code",
     "checksum": "af4e21197c16aa92d9687cc732391a1c",
     "grade": true,
     "grade_id": "5",
     "locked": true,
     "points": 4,
     "schema_version": 3,
     "solution": false,
     "task": false
    }
   },
   "outputs": [],
   "source": [
    "#Test cell-5 (4 points)\n",
    "#DO NOT MODIFY/DELETE THIS CELL \n",
    "\n",
    "assert y.count(1)==747\n",
    "assert y.count(0)==4827"
   ]
  },
  {
   "cell_type": "code",
   "execution_count": null,
   "id": "500fe28f",
   "metadata": {
    "deletable": false,
    "editable": false,
    "nbgrader": {
     "cell_type": "code",
     "checksum": "7f02c8f8fb9f4953939cafff2cf8275c",
     "grade": true,
     "grade_id": "6",
     "locked": true,
     "points": 4,
     "schema_version": 3,
     "solution": false,
     "task": false
    }
   },
   "outputs": [],
   "source": [
    "#Test cell-6 (4 points)\n",
    "#DO NOT MODIFY/DELETE THIS CELL \n",
    "\n",
    "assert X_new['URL'].sum()==22\n",
    "assert round(X_new['LLen'].mean(),2)==80.48"
   ]
  },
  {
   "cell_type": "code",
   "execution_count": null,
   "id": "0f680aa0",
   "metadata": {
    "deletable": false,
    "editable": false,
    "nbgrader": {
     "cell_type": "code",
     "checksum": "de5189b7b92cb632fbd3ea0f30fea8ee",
     "grade": true,
     "grade_id": "7",
     "locked": true,
     "points": 2,
     "schema_version": 3,
     "solution": false,
     "task": false
    }
   },
   "outputs": [],
   "source": [
    "#Test cell-7 (2 points)\n",
    "#DO NOT MODIFY/DELETE THIS CELL \n",
    "\n",
    "assert len(X_new.columns)==8691"
   ]
  },
  {
   "cell_type": "markdown",
   "id": "e741b144",
   "metadata": {
    "deletable": false,
    "editable": false,
    "nbgrader": {
     "cell_type": "markdown",
     "checksum": "00a5db7459ee78f5498bbf6b0fcb1f51",
     "grade": false,
     "grade_id": "Q3",
     "locked": true,
     "schema_version": 3,
     "solution": false,
     "task": false
    }
   },
   "source": [
    "#### Q3 [5 points]. Unsupervised learning\n",
    "\n",
    "1. Perform standardization of `X_new` using StandardScaler function to obtain `X_std`. \n",
    "2. Consider the standardized dataframe `X_std` to perform k-means clustering with the value of k as 10 (meaning number of clusters) and `random_state` of 10. \n",
    "3. Assign the silhouette score of the clustering to variable named `sil_score`."
   ]
  },
  {
   "cell_type": "code",
   "execution_count": null,
   "id": "668f2fc0",
   "metadata": {
    "deletable": false,
    "nbgrader": {
     "cell_type": "code",
     "checksum": "92cbcd0ba6a39a17c08caecd6ef4ef37",
     "grade": false,
     "grade_id": "Q3-sol",
     "locked": false,
     "schema_version": 3,
     "solution": true,
     "task": false
    }
   },
   "outputs": [],
   "source": [
    "#K-means clustering\n",
    "from sklearn.preprocessing import StandardScaler\n",
    "from sklearn.cluster import KMeans\n",
    "from sklearn.metrics import silhouette_score\n",
    "\n",
    "scaler = StandardScaler()\n",
    "X_std = scaler.fit_transform(X_new)\n",
    "\n",
    "kmeans = KMeans(n_clusters=10, random_state=10, n_init=10)\n",
    "cluster_labels = kmeans.fit_predict(X_std)\n",
    "\n",
    "sil_score = silhouette_score(X_std, cluster_labels)\n",
    "\n",
    "print(\"Silhouette Score:\", sil_score)\n",
    "\n",
    "# YOUR CODE HERE\n",
    "\n",
    "\n",
    "\n",
    "\n"
   ]
  },
  {
   "cell_type": "code",
   "execution_count": null,
   "id": "3dced85c",
   "metadata": {
    "deletable": false,
    "editable": false,
    "nbgrader": {
     "cell_type": "code",
     "checksum": "26beede1ee72fc9c1b9f5d5b61e9983f",
     "grade": true,
     "grade_id": "8",
     "locked": true,
     "points": 3,
     "schema_version": 3,
     "solution": false,
     "task": false
    }
   },
   "outputs": [],
   "source": [
    "#Test cell-8 (7 points)\n",
    "#DO NOT MODIFY/DELETE THIS CELL \n",
    "\n",
    "assert round(X_std.mean())==0\n",
    "assert round(X_std.std())==1"
   ]
  },
  {
   "cell_type": "code",
   "execution_count": null,
   "id": "9549a028",
   "metadata": {
    "deletable": false,
    "editable": false,
    "nbgrader": {
     "cell_type": "code",
     "checksum": "291b14c20367d2b425760f5487fe71cf",
     "grade": true,
     "grade_id": "9",
     "locked": true,
     "points": 2,
     "schema_version": 3,
     "solution": false,
     "task": false
    }
   },
   "outputs": [],
   "source": [
    "#Test cell-9 (3 points)\n",
    "#DO NOT MODIFY/DELETE THIS CELL \n",
    "\n",
    "assert round(sil_score,3)==0.052"
   ]
  },
  {
   "cell_type": "markdown",
   "id": "d250bf8e",
   "metadata": {
    "deletable": false,
    "editable": false,
    "nbgrader": {
     "cell_type": "markdown",
     "checksum": "feea28f223b2160bd148b4ca77fefdfb",
     "grade": false,
     "grade_id": "Q4",
     "locked": true,
     "schema_version": 3,
     "solution": false,
     "task": false
    }
   },
   "source": [
    "#### Q4 [5 points]. Supervised learning\n",
    "\n",
    "1. Consider the dataframe `X_std` and `y` to first perform train_test_split operation with `test_size` as 0.3 and `random_state` as 12. Use the variables `X_train`, `y_train` for training and `X_test`, `y_test` for testing datasets. \n",
    "2. Train a K-Nearest Neighbors classifier (initialized as variable `knn`) using these parameters: `n_neighbors`=5 and the `kd_tree` algorithm.\n",
    "3. Compute the accuracy_score and assign it to variable `acc_score`. "
   ]
  },
  {
   "cell_type": "code",
   "execution_count": null,
   "id": "c0d19ad2",
   "metadata": {
    "deletable": false,
    "nbgrader": {
     "cell_type": "code",
     "checksum": "36a34ac9f8c99dbe4348430622fd8410",
     "grade": false,
     "grade_id": "cell-b13d1e5cfbcc8d22",
     "locked": false,
     "schema_version": 3,
     "solution": true,
     "task": false
    }
   },
   "outputs": [],
   "source": [
    "# YOUR CODE HERE\n",
    "from sklearn.model_selection import train_test_split\n",
    "from sklearn.neighbors import KNeighborsClassifier\n",
    "from sklearn.metrics import accuracy_score\n",
    "\n",
    "X_train, X_test, y_train, y_test = train_test_split(X_std, y, test_size=0.3, random_state=12)\n",
    "\n",
    "knn = KNeighborsClassifier(n_neighbors=5, algorithm='kd_tree')\n",
    "\n",
    "knn.fit(X_train, y_train)\n",
    "\n",
    "y_pred = knn.predict(X_test)\n",
    "\n",
    "acc_score = accuracy_score(y_test, y_pred)\n",
    "\n",
    "print(acc_score)\n"
   ]
  },
  {
   "cell_type": "code",
   "execution_count": null,
   "id": "662082dd",
   "metadata": {
    "deletable": false,
    "editable": false,
    "nbgrader": {
     "cell_type": "code",
     "checksum": "201dce988ea161a0bb3f493716c99341",
     "grade": true,
     "grade_id": "10",
     "locked": true,
     "points": 5,
     "schema_version": 3,
     "solution": false,
     "task": false
    }
   },
   "outputs": [],
   "source": [
    "#Test cell-10 (10 points)\n",
    "#DO NOT MODIFY/DELETE THIS CELL \n",
    "\n",
    "assert round(acc_score,2)== 0.88\n",
    "assert knn.n_neighbors == 5"
   ]
  }
 ],
 "metadata": {
  "kernelspec": {
   "display_name": "Python 3 (ipykernel)",
   "language": "python",
   "name": "python3"
  },
  "language_info": {
   "codemirror_mode": {
    "name": "ipython",
    "version": 3
   },
   "file_extension": ".py",
   "mimetype": "text/x-python",
   "name": "python",
   "nbconvert_exporter": "python",
   "pygments_lexer": "ipython3",
   "version": "3.11.4"
  }
 },
 "nbformat": 4,
 "nbformat_minor": 5
}
