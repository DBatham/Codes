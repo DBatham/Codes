{
 "cells": [
  {
   "cell_type": "markdown",
   "id": "23d45c85",
   "metadata": {
    "deletable": false,
    "editable": false,
    "nbgrader": {
     "cell_type": "markdown",
     "checksum": "9288ccdcf45228f2dbed37e6ee972500",
     "grade": false,
     "grade_id": "Instructions",
     "locked": true,
     "schema_version": 3,
     "solution": false,
     "task": false
    }
   },
   "source": [
    "## Assignment-4\n",
    "##### Total number of points: 50\n",
    "#### Due date: 10/16/2023 11:59 PM\n",
    "\n",
    "Before you submit this homework, make sure everything runs as expected. First, restart the kernel (in the menu, select Kernel → Restart) and then run all cells (in the menubar, select Cell → Run All). You can discuss with others regarding the homework but all work must be your own.\n",
    "\n",
    "Steps to evaluate your solutions:\n",
    "\n",
    "Step-1: Try on Colab or Anaconda (Windows: https://docs.anaconda.com/anaconda/install/windows/ ; Mac:https://docs.anaconda.com/anaconda/install/mac-os/ ; Linux: https://docs.anaconda.com/anaconda/install/linux/)\n",
    "\n",
    "Step-2: Open the Jupyter Notebook by first launching the anaconda software console\n",
    "\n",
    "Step-3: Open the homework's .ipynb file and write your solutions at the appropriate location \"# YOUR CODE HERE\"\n",
    "\n",
    "Step-4: You can restart the kernel and click run all (in the menubar, select Cell → Run All) on the center-right on the top of this window.\n",
    "\n",
    "Step-5: Now go to \"File\" then click on \"Download as\" then click on \"Notebook (.ipynb)\" Please DO NOT change the file name and just keep it as \".ipynb\"\n",
    "\n",
    "Step-6: Go to lms.rpi.edu and upload your homework at the appropriate link to submit this homework.\n",
    "\n",
    "\n",
    "#### Please note that for any question in this assignment you will receive points ONLY if your solution passes all the test cases including hidden testcases as well. So please make sure you try to think all possible scenarios before submitting your answers.  \n",
    "- Note that hidden tests are present to ensure you are not hardcoding. \n",
    "- If caught cheating: \n",
    "    - you will receive a score of 0 for the 1st violation. \n",
    "    - for repeated incidents, you will receive an automatic 'F' grade and will be reported to the dean of Lally School of Management.  "
   ]
  },
  {
   "cell_type": "markdown",
   "id": "8c17435e",
   "metadata": {
    "deletable": false,
    "editable": false,
    "nbgrader": {
     "cell_type": "markdown",
     "checksum": "00b02cf9acc3ba85a504d217c587e1bf",
     "grade": false,
     "grade_id": "TimeSpent",
     "locked": true,
     "schema_version": 3,
     "solution": false,
     "task": false
    }
   },
   "source": [
    "### Please provide your response in clear words as a string. You need to answer this question in order to receive points. \n",
    "\n",
    "- 1. Did you work in a group setting to study the concepts you are learning in this class -- Assign variable `groupStudy` with either `yes` or `no`.\n",
    "- 2. How much time did you spend on this assignment? -- Assign variable `AssignmentTime`.\n",
    "- 3. How much time did you spend towards learning the concepts taught in this class the past week in terms of hours -- Assign variable `WeeklyHours`. \n",
    "\n"
   ]
  },
  {
   "cell_type": "code",
   "execution_count": null,
   "id": "267c4cd9",
   "metadata": {
    "deletable": false,
    "nbgrader": {
     "cell_type": "code",
     "checksum": "9ec0dc4fab50b7d5b8b68d92360cd8da",
     "grade": false,
     "grade_id": "Q0",
     "locked": false,
     "schema_version": 3,
     "solution": true,
     "task": false
    }
   },
   "outputs": [],
   "source": [
    "#Assign groupstudy; AssignmentTime; WeeklyHours\n",
    "\n",
    "groupStudy = '' #Please assign this variable with yes or no\n",
    "AssignmentTime = '' #How much time did you spend w.r.t hours on this assignment\n",
    "WeeklyHours = '' #How much time did you spend w.r.t hours the last week learning the concepts taught in our ML class\n",
    "\n",
    "# YOUR CODE HERE\n"
   ]
  },
  {
   "cell_type": "code",
   "execution_count": null,
   "id": "0f16f540",
   "metadata": {
    "deletable": false,
    "editable": false,
    "nbgrader": {
     "cell_type": "code",
     "checksum": "6a61c3901278cb1c3b8026029d12ca1e",
     "grade": true,
     "grade_id": "1",
     "locked": true,
     "points": 10,
     "schema_version": 3,
     "solution": false,
     "task": false
    }
   },
   "outputs": [],
   "source": [
    "#Test cell-1 (10 points)\n",
    "#DO NOT MODIFY/DELETE THIS CELL \n"
   ]
  },
  {
   "cell_type": "markdown",
   "id": "cfd5221a",
   "metadata": {
    "deletable": false,
    "editable": false,
    "nbgrader": {
     "cell_type": "markdown",
     "checksum": "f358300a3728fb86e95d4a0071ab52cb",
     "grade": false,
     "grade_id": "Data",
     "locked": true,
     "schema_version": 3,
     "solution": false,
     "task": false
    }
   },
   "source": [
    "We will be using the popular breast cancer wisconsin dataset for this homework (more details here: [url](https://scikit-learn.org/stable/modules/generated/sklearn.datasets.load_breast_cancer.html))"
   ]
  },
  {
   "cell_type": "markdown",
   "id": "9d1bb9ee",
   "metadata": {
    "deletable": false,
    "editable": false,
    "nbgrader": {
     "cell_type": "markdown",
     "checksum": "8ea741c2802592e11636247a38de5a66",
     "grade": false,
     "grade_id": "Q1",
     "locked": true,
     "schema_version": 3,
     "solution": false,
     "task": false
    }
   },
   "source": [
    "#### Q1. Building and preparing a dataset for model generation. \n",
    "\n",
    "1. Load the data separately as `X` and `y_true` corresponding to features and class label or target variable respectively. WHen you build the feature set `X` make sure `X` is a pandas dataframe that contains both data and feature names. `y_true` could be a pandas Series. <br><br>\n",
    "\n",
    "2. Create a dataframe `df` using both `X` and `y_true` where, you will be using the feature names exactly as they are in `X`. <br><br>\n",
    "\n",
    "3. Create a new feature column named `y_true_cat` in `df` where, you convert the numerical values of 0 and 1 to categorical values.  Use the appropriate mapping to ensure in such a way that there are a total of 212 `Malignant` and 357 `Benign` instances in `y_true_cat`. <br><br>\n",
    "\n",
    "4. Create a new feature column (integer type) called `y_pred` where, the first 300 values are `0`s, and the remaining 269 values are `1`s. <br><br>\n",
    "\n",
    "5. Now use both columns `y_true` and `y_pred` as the ground truth labels and predicted labels to compute Precision (`q1_prec`), Recall (`q1_rec`) and Accuracy (`q1_acc`)."
   ]
  },
  {
   "cell_type": "code",
   "execution_count": null,
   "id": "686904f8",
   "metadata": {
    "deletable": false,
    "nbgrader": {
     "cell_type": "code",
     "checksum": "f7ebb57b00d0b05538903c49abe73520",
     "grade": false,
     "grade_id": "Q1-sol",
     "locked": false,
     "schema_version": 3,
     "solution": true,
     "task": false
    }
   },
   "outputs": [],
   "source": [
    "import pandas as pd\n",
    "import numpy as np\n",
    "from sklearn.datasets import load_breast_cancer\n",
    "\n",
    "#Load the dataset and save it as a dataframe\n",
    "bcancer = load_breast_cancer()\n",
    "\n",
    "# YOUR CODE HERE\n",
    "\n",
    "\n",
    "\n"
   ]
  },
  {
   "cell_type": "code",
   "execution_count": null,
   "id": "379d765a",
   "metadata": {
    "deletable": false,
    "editable": false,
    "nbgrader": {
     "cell_type": "code",
     "checksum": "efd0cc6d083ab69fe0f135a51124158f",
     "grade": true,
     "grade_id": "2",
     "locked": true,
     "points": 5,
     "schema_version": 3,
     "solution": false,
     "task": false
    }
   },
   "outputs": [],
   "source": [
    "#Test cell-2 (5 points)\n",
    "#DO NOT MODIFY/DELETE THIS CELL\n",
    "assert df['y_true_cat'].value_counts()['Benign']==357\n",
    "assert df['y_true_cat'].value_counts()['Malignant']==212"
   ]
  },
  {
   "cell_type": "code",
   "execution_count": null,
   "id": "e48d2f5b",
   "metadata": {
    "deletable": false,
    "editable": false,
    "nbgrader": {
     "cell_type": "code",
     "checksum": "b5f427073c0cdeea51d711b26d0caf40",
     "grade": true,
     "grade_id": "3",
     "locked": true,
     "points": 5,
     "schema_version": 3,
     "solution": false,
     "task": false
    }
   },
   "outputs": [],
   "source": [
    "#Test cell-3 (5 points)\n",
    "#DO NOT MODIFY/DELETE THIS CELL\n",
    "assert 'y_true' in df.columns\n",
    "assert len(X)==569\n",
    "assert len(df.columns)==33"
   ]
  },
  {
   "cell_type": "code",
   "execution_count": null,
   "id": "63063155",
   "metadata": {
    "deletable": false,
    "editable": false,
    "nbgrader": {
     "cell_type": "code",
     "checksum": "778910a25e0c056786e8cd6de63fe219",
     "grade": true,
     "grade_id": "4",
     "locked": true,
     "points": 5,
     "schema_version": 3,
     "solution": false,
     "task": false
    }
   },
   "outputs": [],
   "source": [
    "#Test cell-4 (5 points)\n",
    "#DO NOT MODIFY/DELETE THIS CELL"
   ]
  },
  {
   "cell_type": "markdown",
   "id": "859afe69",
   "metadata": {
    "deletable": false,
    "editable": false,
    "nbgrader": {
     "cell_type": "markdown",
     "checksum": "20f72c6ec79f4e16b52bd60a3b8497b7",
     "grade": false,
     "grade_id": "Q2",
     "locked": true,
     "schema_version": 3,
     "solution": false,
     "task": false
    }
   },
   "source": [
    "#### Q2. Data preprocessing and model evaluation. \n",
    "\n",
    "\n",
    "1. Drop the columns `y_true_cat` and `y_pred` from the dataframe `df`. <br><br>\n",
    "\n",
    "2. Create `X` and `y` from the dataframe `df` where, `X` corresponds to only the feature columns, and `y` corresponds to the class label column `y_true`. Please make sure you check the casing -- `X` and `y` are in uppercase and lowercase formats respectively.  <br><br>\n",
    "\n",
    "3. Split the data into training (75%) and testing (25%) data using only the parameters X (feature set) and y (class label `y_true`, `test_size`, and `random_state`=10. Dataframe `df` and `y_true` were initialized in the previous question. This generates these four entities as outputs (please use the same variable names as follows): \n",
    "    - `X_train`: Training feature columns\n",
    "    - `X_test`: Testing feature columns\n",
    "    - `y_train`: Training labels\n",
    "    - `y_test`: Testing labels\n",
    "<br><br>\n",
    "4. Please copy and paste this code in your code cell after step 3 exactly as it is and execute it to compute the predicted class labels `y_pred`. \n",
    "\n",
    "`from sklearn.tree import DecisionTreeClassifier \n",
    " clf = DecisionTreeClassifier(random_state=0) \n",
    " clf.fit(X_train, y_train) \n",
    " y_pred = clf.predict(X_test)`\n",
    "\n",
    "<br>\n",
    "5. Finally, compute the precision, recall, and accuracy scores assigned to the variables `q2_prec`, `q2_rec`, and `q2_acc` respectively. \n"
   ]
  },
  {
   "cell_type": "code",
   "execution_count": null,
   "id": "f372a4e4",
   "metadata": {
    "deletable": false,
    "nbgrader": {
     "cell_type": "code",
     "checksum": "51c88258da53d9bf77b3f0deb707d021",
     "grade": false,
     "grade_id": "Q2-sol",
     "locked": false,
     "schema_version": 3,
     "solution": true,
     "task": false
    }
   },
   "outputs": [],
   "source": [
    "#Split the data into training (75%) and testing (25%) data\n",
    "\n",
    "#X_train: Training feature columns\n",
    "#X_test: Testing feature columns\n",
    "#y_train: Training labels\n",
    "#y_test: Testing labels\n",
    "\n",
    "# YOUR CODE HERE\n",
    "\n",
    "\n"
   ]
  },
  {
   "cell_type": "code",
   "execution_count": null,
   "id": "50d173cd",
   "metadata": {
    "deletable": false,
    "editable": false,
    "nbgrader": {
     "cell_type": "code",
     "checksum": "bcfb919b7f1fc777b5c40bc8d472ca6e",
     "grade": true,
     "grade_id": "5",
     "locked": true,
     "points": 5,
     "schema_version": 3,
     "solution": false,
     "task": false
    }
   },
   "outputs": [],
   "source": [
    "#Test cell-5 (5 points)\n",
    "#DO NOT MODIFY/DELETE THIS CELL\n",
    "assert 'y_true' in df.columns\n",
    "assert df.isnull().values.sum()==0\n",
    "assert set(y)=={0, 1}\n",
    "assert len(X_train)==426"
   ]
  },
  {
   "cell_type": "code",
   "execution_count": null,
   "id": "52c846f8",
   "metadata": {
    "deletable": false,
    "editable": false,
    "nbgrader": {
     "cell_type": "code",
     "checksum": "8532d98816f7bdcdb31c75fa500af263",
     "grade": true,
     "grade_id": "6",
     "locked": true,
     "points": 5,
     "schema_version": 3,
     "solution": false,
     "task": false
    }
   },
   "outputs": [],
   "source": [
    "#Test cell-6 (5 points)\n",
    "#DO NOT MODIFY/DELETE THIS CELL"
   ]
  },
  {
   "cell_type": "markdown",
   "id": "7a6af58b",
   "metadata": {
    "deletable": false,
    "editable": false,
    "nbgrader": {
     "cell_type": "markdown",
     "checksum": "d59494891b14c4489ba183a39d6c72b6",
     "grade": false,
     "grade_id": "Q3",
     "locked": true,
     "schema_version": 3,
     "solution": false,
     "task": false
    }
   },
   "source": [
    "#### Q3. Data preprocessing and dimensionality reduction using PCA. \n",
    "\n",
    "\n",
    "1. Consider the same `df` from the previous question (Q2 -- after modifications). Create `X` and `y` from the dataframe `df` where, `X` corresponds to only the feature columns, and `y` corresponds to the class label column `y_true`. Please make sure you check the casing -- `X` and `y` are in uppercase and lowercase formats respectively. \n",
    "\n",
    "2. Perform standardization using StandardScaler function and save its output as `X_std`. \n",
    "\n",
    "3. Consider only the top-`k` Principal components that that will retain not more than 78% of the information present in the original dataset. In other words just choose the first `k` principal components that capture 78% of variance only. Please assign the integer variable `k` with the total number of these top principal components. \n",
    "\n",
    "4. Translate the data only into those `k` new feature (which are the principal components) space and save the transformed data as `X_pca`. "
   ]
  },
  {
   "cell_type": "code",
   "execution_count": null,
   "id": "d54a5964",
   "metadata": {
    "deletable": false,
    "nbgrader": {
     "cell_type": "code",
     "checksum": "473180752921e82f9972a4662ed34170",
     "grade": false,
     "grade_id": "Q3-sol",
     "locked": false,
     "schema_version": 3,
     "solution": true,
     "task": false
    }
   },
   "outputs": [],
   "source": [
    "#Perform standardization using StandardScaler function and perform PCA.\n",
    "\n",
    "#Consider only the top-k Principal components that that will retain not more than 78% of the information present in the original dataset.\n",
    "\n",
    "#In other words just choose the first k principal components that capture 78% of variance only.\n",
    "\n",
    "#How many such PCs should be considered?\n",
    "\n",
    "import numpy as np\n",
    "\n",
    "# YOUR CODE HERE\n",
    "\n",
    "\n",
    "\n"
   ]
  },
  {
   "cell_type": "code",
   "execution_count": null,
   "id": "c7b72e9a",
   "metadata": {
    "deletable": false,
    "editable": false,
    "nbgrader": {
     "cell_type": "code",
     "checksum": "9d73af2897fd8f433e1d188530f32bfe",
     "grade": true,
     "grade_id": "7",
     "locked": true,
     "points": 5,
     "schema_version": 3,
     "solution": false,
     "task": false
    }
   },
   "outputs": [],
   "source": [
    "#Test cell-7 (5 points)\n",
    "#DO NOT MODIFY/DELETE THIS CELL\n",
    "assert len(X)==569\n",
    "assert len(X.columns)==30\n",
    "assert len(X)==len(y)"
   ]
  },
  {
   "cell_type": "code",
   "execution_count": null,
   "id": "9b3d82c6",
   "metadata": {
    "deletable": false,
    "editable": false,
    "nbgrader": {
     "cell_type": "code",
     "checksum": "85ce0eeaa2d1ee94f96032934c71bffa",
     "grade": true,
     "grade_id": "8",
     "locked": true,
     "points": 5,
     "schema_version": 3,
     "solution": false,
     "task": false
    }
   },
   "outputs": [],
   "source": [
    "#Test cell-8 (5 points)\n",
    "#DO NOT MODIFY/DELETE THIS CELL\n",
    "assert round(np.mean(X_std),2)==0\n",
    "assert round(np.std(X_std),2)==1\n",
    "assert len(X_pca[0])==k\n",
    "assert k<len(X.columns)"
   ]
  },
  {
   "cell_type": "code",
   "execution_count": null,
   "id": "ebce2ddc",
   "metadata": {
    "deletable": false,
    "editable": false,
    "nbgrader": {
     "cell_type": "code",
     "checksum": "7bdcb33b7eb5be62ece9c54bc80ebfa2",
     "grade": true,
     "grade_id": "9",
     "locked": true,
     "points": 5,
     "schema_version": 3,
     "solution": false,
     "task": false
    }
   },
   "outputs": [],
   "source": [
    "#Test cell-9 (5 points)\n",
    "#DO NOT MODIFY/DELETE THIS CELL"
   ]
  }
 ],
 "metadata": {
  "kernelspec": {
   "display_name": "Python 3 (ipykernel)",
   "language": "python",
   "name": "python3"
  },
  "language_info": {
   "codemirror_mode": {
    "name": "ipython",
    "version": 3
   },
   "file_extension": ".py",
   "mimetype": "text/x-python",
   "name": "python",
   "nbconvert_exporter": "python",
   "pygments_lexer": "ipython3",
   "version": "3.9.7"
  }
 },
 "nbformat": 4,
 "nbformat_minor": 5
}
