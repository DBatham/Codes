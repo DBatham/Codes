{
 "cells": [
  {
   "cell_type": "markdown",
   "id": "538aeea8",
   "metadata": {
    "deletable": false,
    "editable": false,
    "nbgrader": {
     "cell_type": "markdown",
     "checksum": "6c6df77692e6072ba51805e63d3f1aee",
     "grade": false,
     "grade_id": "cell-b493c769f1af406e",
     "locked": true,
     "schema_version": 3,
     "solution": false,
     "task": false
    }
   },
   "source": [
    "## Assignment-5\n",
    "##### Total number of points: 50\n",
    "#### Due date: 10/23/2023 11:59 PM\n",
    "\n",
    "Before you submit this homework, make sure everything runs as expected. First, restart the kernel (in the menu, select Kernel → Restart) and then run all cells (in the menubar, select Cell → Run All). You can discuss with others regarding the homework but all work must be your own.\n",
    "\n",
    "Steps to evaluate your solutions:\n",
    "\n",
    "Step-1: Try on Colab or Anaconda (Windows: https://docs.anaconda.com/anaconda/install/windows/ ; Mac:https://docs.anaconda.com/anaconda/install/mac-os/ ; Linux: https://docs.anaconda.com/anaconda/install/linux/)\n",
    "\n",
    "Step-2: Open the Jupyter Notebook by first launching the anaconda software console\n",
    "\n",
    "Step-3: Open the homework's .ipynb file and write your solutions at the appropriate location \"# YOUR CODE HERE\"\n",
    "\n",
    "Step-4: You can restart the kernel and click run all (in the menubar, select Cell → Run All) on the center-right on the top of this window.\n",
    "\n",
    "Step-5: Now go to \"File\" then click on \"Download as\" then click on \"Notebook (.ipynb)\" Please DO NOT change the file name and just keep it as \".ipynb\"\n",
    "\n",
    "Step-6: Go to lms.rpi.edu and upload your homework at the appropriate link to submit this homework.\n",
    "\n",
    "\n",
    "#### Please note that for any question in this assignment you will receive points ONLY if your solution passes all the test cases including hidden testcases as well. So please make sure you try to think all possible scenarios before submitting your answers.  \n",
    "- Note that hidden tests are present to ensure you are not hardcoding. \n",
    "- If caught cheating: \n",
    "    - you will receive a score of 0 for the 1st violation. \n",
    "    - for repeated incidents, you will receive an automatic 'F' grade and will be reported to the dean of Lally School of Management.  "
   ]
  },
  {
   "cell_type": "markdown",
   "id": "71aab6ac",
   "metadata": {
    "deletable": false,
    "editable": false,
    "nbgrader": {
     "cell_type": "markdown",
     "checksum": "00b02cf9acc3ba85a504d217c587e1bf",
     "grade": false,
     "grade_id": "TimeSpent",
     "locked": true,
     "schema_version": 3,
     "solution": false,
     "task": false
    }
   },
   "source": [
    "### Please provide your response in clear words as a string. You need to answer this question in order to receive points. \n",
    "\n",
    "- 1. Did you work in a group setting to study the concepts you are learning in this class -- Assign variable `groupStudy` with either `yes` or `no`.\n",
    "- 2. How much time did you spend on this assignment? -- Assign variable `AssignmentTime`.\n",
    "- 3. How much time did you spend towards learning the concepts taught in this class the past week in terms of hours -- Assign variable `WeeklyHours`. \n",
    "\n"
   ]
  },
  {
   "cell_type": "code",
   "execution_count": 1,
   "id": "6c5a82a0",
   "metadata": {
    "deletable": false,
    "nbgrader": {
     "cell_type": "code",
     "checksum": "8d8fb66d577581da92866f497e44c15b",
     "grade": false,
     "grade_id": "Q0",
     "locked": false,
     "schema_version": 3,
     "solution": true,
     "task": false
    }
   },
   "outputs": [],
   "source": [
    "#Assign groupstudy; AssignmentTime; WeeklyHours\n",
    "\n",
    "groupStudy = 'no' #Please assign this variable with yes or no\n",
    "AssignmentTime = '4' #How much time did you spend w.r.t hours on this assignment\n",
    "WeeklyHours = '5' #How much time did you spend w.r.t hours the last week learning the concepts taught in our ML class\n",
    "\n",
    "# YOUR CODE HERE\n",
    "\n",
    "\n"
   ]
  },
  {
   "cell_type": "code",
   "execution_count": 2,
   "id": "deb32432",
   "metadata": {
    "deletable": false,
    "editable": false,
    "nbgrader": {
     "cell_type": "code",
     "checksum": "6a61c3901278cb1c3b8026029d12ca1e",
     "grade": true,
     "grade_id": "1",
     "locked": true,
     "points": 10,
     "schema_version": 3,
     "solution": false,
     "task": false
    }
   },
   "outputs": [],
   "source": [
    "#Test cell-1 (10 points)\n",
    "#DO NOT MODIFY/DELETE THIS CELL \n"
   ]
  },
  {
   "cell_type": "markdown",
   "id": "298c64b2",
   "metadata": {
    "deletable": false,
    "editable": false,
    "nbgrader": {
     "cell_type": "markdown",
     "checksum": "db113a6aeeec2571a4c392e89b763065",
     "grade": false,
     "grade_id": "data",
     "locked": true,
     "schema_version": 3,
     "solution": false,
     "task": false
    }
   },
   "source": [
    "#### Q1 [10 points]. Please make sure you complete the below tasks correctly as the following questions are dependent on this. \n",
    "\n",
    "1. Load the California housing data from sklearn library (library is already provided here below). \n",
    "    - This dataset was obtained from the StatLib repository https://www.dcc.fc.up.pt/~ltorgo/Regression/cal_housing.html\n",
    "2. Create a dataframe `X` representing the features -- both data and the feature names should be included. \n",
    "3. Save the class labels in an array `y_true`. \n",
    "4. The given target labels (`cali.target`) are continuous -- convert them into discrete values -- 1 and 2 using this approach and save them in an array `y_true_cat`.\n",
    "    - all the values (v1) in cali.target should become 1 if v1>=0.0 and v1<2.0; \n",
    "    - all the values (v2) in cali.target should become 2 if v2>=2.0 and v2<5.5;\n",
    "    - Note that these new/transformed labels 1 and 2 are **integers**\n",
    "    - Please save these new discrete values in the array `y_true_cat`\n",
    "    - Original continuous values are in the array `y_true`\n"
   ]
  },
  {
   "cell_type": "code",
   "execution_count": 3,
   "id": "11f64888",
   "metadata": {
    "deletable": false,
    "nbgrader": {
     "cell_type": "code",
     "checksum": "e659753ea76f16afafec766b3258e7f9",
     "grade": false,
     "grade_id": "Q1",
     "locked": false,
     "schema_version": 3,
     "solution": true,
     "task": false
    }
   },
   "outputs": [
    {
     "name": "stdout",
     "output_type": "stream",
     "text": [
      "Original Continuous Labels (y_true):\n",
      "[4.526 3.585 3.521 3.413 3.422 2.697 2.992 2.414 2.267 2.611]\n",
      "\n",
      "Discrete Labels (y_true_cat):\n",
      "[2 2 2 2 2 2 2 2 2 2]\n"
     ]
    }
   ],
   "source": [
    "import pandas as pd\n",
    "import numpy as np\n",
    "from sklearn.datasets import fetch_california_housing\n",
    "\n",
    "#Load the dataset and save it as a dataframe\n",
    "cali = fetch_california_housing()\n",
    "\n",
    "feature_names = cali.feature_names\n",
    "X = pd.DataFrame(cali.data, columns=feature_names)\n",
    "\n",
    "y_true = cali.target\n",
    "y_true_cat = []\n",
    "\n",
    "for v in y_true:\n",
    "    if v >= 0.0 and v < 2.0:\n",
    "        y_true_cat.append(1)\n",
    "    elif v >= 2.0 and v < 5.5:\n",
    "        y_true_cat.append(2)\n",
    "\n",
    "y_true_cat = np.array(y_true_cat)\n",
    "print(\"Original Continuous Labels (y_true):\")\n",
    "print(y_true[:10])\n",
    "\n",
    "print(\"\\nDiscrete Labels (y_true_cat):\")\n",
    "print(y_true_cat[:10])\n",
    "# YOUR CODE HERE\n",
    "\n"
   ]
  },
  {
   "cell_type": "code",
   "execution_count": 4,
   "id": "b4c6a37a",
   "metadata": {
    "deletable": false,
    "editable": false,
    "nbgrader": {
     "cell_type": "code",
     "checksum": "aeb8b1c5ae39d8c057f977232de68eaf",
     "grade": true,
     "grade_id": "2",
     "locked": true,
     "points": 10,
     "schema_version": 3,
     "solution": false,
     "task": false
    }
   },
   "outputs": [],
   "source": [
    "#Test cell-2 (10 points)\n",
    "#DO NOT MODIFY/DELETE THIS CELL \n",
    "\n",
    "assert set(y_true_cat)=={1,2}\n",
    "assert (list(y_true_cat)).count(1)==11885\n",
    "assert (list(y_true_cat)).count(0)==0\n",
    "assert len(X)==len(y_true)\n",
    "assert len(X.columns)==8"
   ]
  },
  {
   "cell_type": "markdown",
   "id": "646b2587",
   "metadata": {
    "deletable": false,
    "editable": false,
    "nbgrader": {
     "cell_type": "markdown",
     "checksum": "d91e632e55a41d9ddac804403fc7186f",
     "grade": false,
     "grade_id": "Q2",
     "locked": true,
     "schema_version": 3,
     "solution": false,
     "task": false
    }
   },
   "source": [
    "#### Q2 [10 points]. Linear regression: Use the California housing dataset loaded into the dataframe `X`\n",
    "\n",
    "1. **Without using train_test_split() function**\n",
    "    - Use the 1st 11885 rows (i.e., index 0,1,....11884) where the corresponding features are loaded as `train_X` and corresponding labels as `train_y`\n",
    "    - Use the remaining rows as testing data -- `test_X` and `test_y` for the features and labels respectively.\n",
    "    - Fit a linear regression line using the training data; then use it to predict labels for testing data as shown in the lecture notebook-14. Please use the default parameters when calling the linear regression function. \n",
    "    - Please make sure you call the appropriate libraries.\n",
    "    - Hint -- Use the original class labels as you expect for Linear Regression. \n",
    "\n",
    "2. Measure the mean-squared error (MSE) `mse_split2` using the predicted labels with testing labels.\n",
    "    - Round the `mse_split2` to 2 values after the decimal point. \n",
    "    - Hint -- Check out the libraries given to guess which functions to use to compute MSE.\n"
   ]
  },
  {
   "cell_type": "code",
   "execution_count": 5,
   "id": "e51ff106",
   "metadata": {
    "deletable": false,
    "nbgrader": {
     "cell_type": "code",
     "checksum": "8ed2b548ca56af5e99cce4867544eaae",
     "grade": false,
     "grade_id": "Q2-sol",
     "locked": false,
     "schema_version": 3,
     "solution": true,
     "task": false
    }
   },
   "outputs": [
    {
     "name": "stdout",
     "output_type": "stream",
     "text": [
      "Mean Squared Error:  0.55\n"
     ]
    }
   ],
   "source": [
    "#Loaded the dataset as X in the previous question \n",
    "from sklearn.linear_model import LinearRegression\n",
    "from sklearn.metrics import mean_squared_error\n",
    "\n",
    "num_train_rows = 11885\n",
    "train_X = pd.DataFrame(X[:num_train_rows])\n",
    "train_y = pd.DataFrame(y_true[:num_train_rows])\n",
    "test_X = pd.DataFrame(X[num_train_rows:])\n",
    "test_y = pd.DataFrame(y_true[num_train_rows:])\n",
    "\n",
    "mse_split2=0\n",
    "\n",
    "\n",
    "regressor = LinearRegression()\n",
    "\n",
    "regressor.fit(train_X, train_y)\n",
    "\n",
    "predicted_y = regressor.predict(test_X)\n",
    "\n",
    "mse_split2 = mean_squared_error(test_y, predicted_y)\n",
    "\n",
    "mse_split2 = round(mse_split2, 2)\n",
    "\n",
    "print(\"Mean Squared Error: \", mse_split2)\n",
    "# YOUR CODE HERE\n"
   ]
  },
  {
   "cell_type": "code",
   "execution_count": 6,
   "id": "1d0e91a8",
   "metadata": {
    "deletable": false,
    "editable": false,
    "nbgrader": {
     "cell_type": "code",
     "checksum": "f87408283cd464d9bd4b41849b12a9fe",
     "grade": true,
     "grade_id": "3",
     "locked": true,
     "points": 6,
     "schema_version": 3,
     "solution": false,
     "task": false
    }
   },
   "outputs": [],
   "source": [
    "#Test cell-3 (6 points)\n",
    "#DO NOT MODIFY/DELETE THIS CELL \n",
    "\n",
    "assert len(train_X)==11885\n",
    "assert len(test_y) == 8755\n",
    "assert mse_split2 == 0.55\n"
   ]
  },
  {
   "cell_type": "code",
   "execution_count": 7,
   "id": "d6643f66",
   "metadata": {
    "deletable": false,
    "editable": false,
    "nbgrader": {
     "cell_type": "code",
     "checksum": "87dd874593694212cb683857cc627541",
     "grade": true,
     "grade_id": "4",
     "locked": true,
     "points": 4,
     "schema_version": 3,
     "solution": false,
     "task": false
    }
   },
   "outputs": [],
   "source": [
    "#Test cell-4 (4 points)\n",
    "#DO NOT MODIFY/DELETE THIS CELL \n"
   ]
  },
  {
   "cell_type": "markdown",
   "id": "bf3c2d8f",
   "metadata": {
    "deletable": false,
    "editable": false,
    "nbgrader": {
     "cell_type": "markdown",
     "checksum": "ea118e477906000b9ee1675977966a4d",
     "grade": false,
     "grade_id": "Q3",
     "locked": true,
     "schema_version": 3,
     "solution": false,
     "task": false
    }
   },
   "source": [
    "#### Q3 [10 points]. Linear regression: Use the California housing dataset loaded into the dataframe `X`\n",
    "\n",
    "1. **Without using train_test_split() function**\n",
    "    - Use the 1st 8755 rows (i.e., index 0,1,....8754) where the corresponding features are loaded as `test_X` and corresponding labels as `test_y`\n",
    "    - Use the remaining rows as testing data -- `train_X` and `train_y` for the features and labels respectively.\n",
    "    - Fit a linear regression line using the training data; then use it to predict labels for testing data as shown in the lecture notebook-14. Please use the default parameters when calling the linear regression function. \n",
    "    - Please make sure you call the appropriate libraries.\n",
    "    - Hint -- Use the original class labels as you expect for Linear Regression. \n",
    "\n",
    "2. Measure the mean-squared error (MSE) `mse_split3` using the predicted labels with testing labels.\n",
    "    - Round the `mse_split3` to 2 values after the decimal point. \n",
    "    - Hint -- Check out the libraries given to guess which functions to use to compute MSE.\n",
    "\n",
    "3. What does the difference between `mse_split2` and `mse_split3` highlight w.r.t the process of splitting the data into training and testing datasets, if any? Please save your response as a string and assign it to variable `your_response3`. "
   ]
  },
  {
   "cell_type": "code",
   "execution_count": 8,
   "id": "3aea3941",
   "metadata": {
    "deletable": false,
    "nbgrader": {
     "cell_type": "code",
     "checksum": "e4b20374cbe7fdf98d7cf793876864b8",
     "grade": false,
     "grade_id": "Q3-sol",
     "locked": false,
     "schema_version": 3,
     "solution": true,
     "task": false
    }
   },
   "outputs": [
    {
     "name": "stdout",
     "output_type": "stream",
     "text": [
      "Mean Squared Error: 0.56\n",
      "For mse_split2 we use 11885 rows and for mse_split3 we used 8755 rows for training and testing set which leads to different results\n"
     ]
    }
   ],
   "source": [
    "#Loaded the dataset as X in 1st question \n",
    "from sklearn.linear_model import LinearRegression\n",
    "from sklearn.metrics import mean_squared_error\n",
    "\n",
    "num_test_rows = 8755\n",
    "train_X = pd.DataFrame(X[num_test_rows:])\n",
    "train_y = pd.DataFrame(y_true[num_test_rows:])\n",
    "test_X = pd.DataFrame(X[:num_test_rows])\n",
    "test_y = pd.DataFrame(y_true[:num_test_rows])\n",
    "\n",
    "mse_split3=0\n",
    "\n",
    "regressor = LinearRegression()\n",
    "\n",
    "regressor.fit(train_X, train_y)\n",
    "\n",
    "predicted_y = regressor.predict(test_X)\n",
    "\n",
    "mse_split3 = mean_squared_error(test_y, predicted_y)\n",
    "\n",
    "mse_split3 = round(mse_split3, 2)\n",
    "\n",
    "print(\"Mean Squared Error:\", mse_split3)\n",
    "your_response3='For mse_split2 we use 11885 rows and for mse_split3 we used 8755 rows for training and testing set which leads to different results'\n",
    "print(your_response3)\n",
    "# YOUR CODE HERE\n"
   ]
  },
  {
   "cell_type": "code",
   "execution_count": 9,
   "id": "34f2657f",
   "metadata": {
    "deletable": false,
    "editable": false,
    "nbgrader": {
     "cell_type": "code",
     "checksum": "1f465ff71ad8deb7d7359704719c9579",
     "grade": true,
     "grade_id": "5",
     "locked": true,
     "points": 6,
     "schema_version": 3,
     "solution": false,
     "task": false
    }
   },
   "outputs": [],
   "source": [
    "#Test cell-5 (6 points)\n",
    "#DO NOT MODIFY/DELETE THIS CELL \n",
    "\n",
    "assert len(train_X)==11885\n",
    "assert len(test_y) == 8755\n",
    "assert mse_split3 == 0.56\n"
   ]
  },
  {
   "cell_type": "code",
   "execution_count": 10,
   "id": "0e67f9c6",
   "metadata": {
    "deletable": false,
    "editable": false,
    "nbgrader": {
     "cell_type": "code",
     "checksum": "d0c4cdf61810487ad2f6a52e763dc51b",
     "grade": true,
     "grade_id": "6",
     "locked": true,
     "points": 4,
     "schema_version": 3,
     "solution": false,
     "task": false
    }
   },
   "outputs": [],
   "source": [
    "#Test cell-6 (4 points)\n",
    "#DO NOT MODIFY/DELETE THIS CELL \n"
   ]
  },
  {
   "cell_type": "markdown",
   "id": "925f225b",
   "metadata": {
    "deletable": false,
    "editable": false,
    "nbgrader": {
     "cell_type": "markdown",
     "checksum": "d93d54d8117d8f5225e0d38b8d7bd4c5",
     "grade": false,
     "grade_id": "Q4",
     "locked": true,
     "schema_version": 3,
     "solution": false,
     "task": false
    }
   },
   "source": [
    "#### Q4 [10 points]. Decision Trees: Use the California housing dataset loaded into `X` and use discretized labels as processed in Q1\n",
    "\n",
    "1. Normalize the data using `MinMaxScaler` function and save it as a variable `X_minmax`\n",
    "2. Shift the original dimensions into Principal Component (PC) space, where you choose only the top-k components that capture at the max 98% of the variance. Transform the data into this new top-k PC space and save it as `X_pca`.  \n",
    "3. Initialize a Decision Tree classifier variable using `DecisionTreeClassifier` function with a `random_state=10`.\n",
    "4. Now using the transformed data, and the classifier variable, compute the average cross validation score when the decision tree classifier is evaluated over a 5-fold cross validation (use `cross_val_score` function). Assign this value to variable `avg_cross_val`. You can use numpy's mean function to compute the average score."
   ]
  },
  {
   "cell_type": "code",
   "execution_count": 11,
   "id": "61021792",
   "metadata": {
    "deletable": false,
    "nbgrader": {
     "cell_type": "code",
     "checksum": "240c0608264dca9f3c5f58ca01cc6a52",
     "grade": false,
     "grade_id": "Q4-sol",
     "locked": false,
     "schema_version": 3,
     "solution": true,
     "task": false
    }
   },
   "outputs": [
    {
     "name": "stdout",
     "output_type": "stream",
     "text": [
      "Average Cross Validation Score: 0.68\n"
     ]
    }
   ],
   "source": [
    "#Using feature set and discretized class labels building a decision tree classifier \n",
    "from sklearn.tree import DecisionTreeClassifier\n",
    "from sklearn.model_selection import cross_val_score\n",
    "from sklearn.decomposition import PCA\n",
    "from sklearn.preprocessing import MinMaxScaler\n",
    "import numpy as np\n",
    "\n",
    "\n",
    "X_minmax = MinMaxScaler().fit_transform(X)\n",
    "\n",
    "pca = PCA(n_components=0.97)\n",
    "X_pca = pca.fit_transform(X_minmax)\n",
    "\n",
    "clf = DecisionTreeClassifier(random_state=10)\n",
    "\n",
    "avg_cross_val = np.mean(cross_val_score(clf, X_pca, y_true_cat, cv = 5))\n",
    "\n",
    "avg_cross_val = round(avg_cross_val, 2)\n",
    "\n",
    "print(\"Average Cross Validation Score:\", avg_cross_val)\n",
    "\n",
    "\n",
    "\n",
    "# YOUR CODE HERE\n"
   ]
  },
  {
   "cell_type": "code",
   "execution_count": 12,
   "id": "ccbfef57",
   "metadata": {
    "deletable": false,
    "editable": false,
    "nbgrader": {
     "cell_type": "code",
     "checksum": "97e541b4fd6a78b9c4ca72c97ad67b1b",
     "grade": true,
     "grade_id": "7",
     "locked": true,
     "points": 8,
     "schema_version": 3,
     "solution": false,
     "task": false
    }
   },
   "outputs": [],
   "source": [
    "#Test cell-7 (8 points)\n",
    "#DO NOT MODIFY/DELETE THIS CELL \n",
    "assert round(np.mean(X_minmax[:,0]),2)==0.23\n",
    "assert round(avg_cross_val, 2)==0.68\n",
    "assert round(np.mean(X_pca[0]), 2)==0.18"
   ]
  },
  {
   "cell_type": "code",
   "execution_count": 13,
   "id": "f4f1f327",
   "metadata": {
    "deletable": false,
    "editable": false,
    "nbgrader": {
     "cell_type": "code",
     "checksum": "49c22e492f7ea038e1afb5ac47050af4",
     "grade": true,
     "grade_id": "8",
     "locked": true,
     "points": 2,
     "schema_version": 3,
     "solution": false,
     "task": false
    }
   },
   "outputs": [],
   "source": [
    "#Test cell-8 (2 points)\n",
    "#DO NOT MODIFY/DELETE THIS CELL \n"
   ]
  }
 ],
 "metadata": {
  "kernelspec": {
   "display_name": "Python 3 (ipykernel)",
   "language": "python",
   "name": "python3"
  },
  "language_info": {
   "codemirror_mode": {
    "name": "ipython",
    "version": 3
   },
   "file_extension": ".py",
   "mimetype": "text/x-python",
   "name": "python",
   "nbconvert_exporter": "python",
   "pygments_lexer": "ipython3",
   "version": "3.11.4"
  }
 },
 "nbformat": 4,
 "nbformat_minor": 5
}
